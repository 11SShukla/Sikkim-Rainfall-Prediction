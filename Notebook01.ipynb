{
 "cells": [
  {
   "cell_type": "code",
   "execution_count": 6,
   "id": "80760e69",
   "metadata": {},
   "outputs": [
    {
     "name": "stdout",
     "output_type": "stream",
     "text": [
      "Year column added and Excel file updated!\n"
     ]
    }
   ],
   "source": [
    "import pandas as pd\n",
    "\n",
    "# Load the Excel sheet into a DataFrame\n",
    "file_path = \"C:\\\\Users\\\\rahla\\\\Desktop\\\\Sikkim-Rainfall-Prediction\\\\Transformed_Dataset\\\\T_SI_2000.xlsx\"  # Replace with the path to your Excel file\n",
    "df = pd.read_excel(file_path)\n",
    "\n",
    "# Extract the year from the Date column and add it as a new column\n",
    "df['Year'] = pd.to_datetime(df['Date'], format='%Y-%m-%d', errors='coerce').dt.year\n",
    "\n",
    "# Save the updated DataFrame back to an Excel file\n",
    "output_file_path = 'updated2_excel_file.xlsx'  # Replace with your desired output file name\n",
    "df.to_excel(output_file_path, index=False)\n",
    "\n",
    "print(\"Year column added and Excel file updated!\")"
   ]
  },
  {
   "cell_type": "code",
   "execution_count": null,
   "id": "11ccd9e8",
   "metadata": {},
   "outputs": [],
   "source": []
  }
 ],
 "metadata": {
  "kernelspec": {
   "display_name": "Python 3 (ipykernel)",
   "language": "python",
   "name": "python3"
  },
  "language_info": {
   "codemirror_mode": {
    "name": "ipython",
    "version": 3
   },
   "file_extension": ".py",
   "mimetype": "text/x-python",
   "name": "python",
   "nbconvert_exporter": "python",
   "pygments_lexer": "ipython3",
   "version": "3.9.13"
  }
 },
 "nbformat": 4,
 "nbformat_minor": 5
}
