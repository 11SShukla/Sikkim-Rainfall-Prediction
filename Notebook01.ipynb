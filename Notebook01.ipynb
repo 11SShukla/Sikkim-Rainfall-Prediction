{
 "cells": [
  {
   "cell_type": "code",
   "execution_count": 25,
   "id": "00cc4944",
   "metadata": {},
   "outputs": [
    {
     "name": "stdout",
     "output_type": "stream",
     "text": [
      "All changes applied and saved to: C:\\Users\\rahla\\Desktop\\Sikkim-Rainfall-Prediction\\Transformed_Dataset\\T_SI_2021_final.xlsx\n"
     ]
    }
   ],
   "source": [
    "import pandas as pd\n",
    "\n",
    "# Define file paths\n",
    "file_path = \"C:\\\\Users\\\\rahla\\\\Desktop\\\\Sikkim-Rainfall-Prediction\\\\Transformed_Dataset\\\\T_SI_2021.xlsx\"\n",
    "\n",
    "# Load the dataset\n",
    "df = pd.read_excel(file_path)\n",
    "\n",
    "# Extract year and month from the Date column\n",
    "df['Year'] = pd.to_datetime(df['Date'], format='%Y-%m-%d', errors='coerce').dt.year\n",
    "df['Month'] = pd.to_datetime(df['Date'], format='%Y-%m-%d', errors='coerce').dt.month\n",
    "\n",
    "# Melt the location columns into 'Location' and 'Value' columns\n",
    "melted_df = pd.melt(\n",
    "    df,\n",
    "    id_vars=['Date', 'Day', 'Year', 'Month'],  # Columns to keep\n",
    "    value_vars=['Loc_0', 'Loc_1', 'Loc_2', 'Loc_3', 'Loc_4', 'Loc_5', 'Loc_6', 'Loc_7', 'Loc_8', 'Loc_9', 'Loc_10'],  # Columns to melt\n",
    "    var_name='Location',  # New column for location names\n",
    "    value_name='Rainfall (in mm)'  # New column for location values\n",
    ")\n",
    "\n",
    "# Create a mapping for latitude and longitude\n",
    "location_mapping = {\n",
    "    'Loc_0': {'Latitude': 27.25, 'Longitude': 88.25},\n",
    "    'Loc_1': {'Latitude': 27.25, 'Longitude': 88.5},\n",
    "    'Loc_2': {'Latitude': 27.25, 'Longitude': 88.75},\n",
    "    'Loc_3': {'Latitude': 27.5,  'Longitude': 88.25},\n",
    "    'Loc_4': {'Latitude': 27.5,  'Longitude': 88.5},\n",
    "    'Loc_5': {'Latitude': 27.5,  'Longitude': 88.75},\n",
    "    'Loc_6': {'Latitude': 27.75, 'Longitude': 88.25},\n",
    "    'Loc_7': {'Latitude': 27.75, 'Longitude': 88.5},\n",
    "    'Loc_8': {'Latitude': 27.75, 'Longitude': 88.75},\n",
    "    'Loc_9': {'Latitude': 28.0,  'Longitude': 88.5},\n",
    "    'Loc_10': {'Latitude': 28.0,  'Longitude': 88.75},\n",
    "}\n",
    "\n",
    "# Add Latitude and Longitude columns based on the mapping\n",
    "melted_df['Latitude'] = melted_df['Location'].map(lambda loc: location_mapping[loc]['Latitude'])\n",
    "melted_df['Longitude'] = melted_df['Location'].map(lambda loc: location_mapping[loc]['Longitude'])\n",
    "\n",
    "# Calculate the quarter of the year based on the Month column\n",
    "melted_df['Quarter'] = (melted_df['Month'] - 1) // 3 + 1\n",
    "\n",
    "# Save the final DataFrame to the same file\n",
    "output_file_path = \"C:\\\\Users\\\\rahla\\\\Desktop\\\\Sikkim-Rainfall-Prediction\\\\Transformed_Dataset\\\\T_SI_2021_final.xlsx\"\n",
    "melted_df.to_excel(output_file_path, index=False)\n",
    "\n",
    "print(\"All changes applied and saved to:\", output_file_path)\n"
   ]
  },
  {
   "cell_type": "code",
   "execution_count": null,
   "id": "40f6ff57",
   "metadata": {},
   "outputs": [],
   "source": []
  }
 ],
 "metadata": {
  "kernelspec": {
   "display_name": "Python 3 (ipykernel)",
   "language": "python",
   "name": "python3"
  },
  "language_info": {
   "codemirror_mode": {
    "name": "ipython",
    "version": 3
   },
   "file_extension": ".py",
   "mimetype": "text/x-python",
   "name": "python",
   "nbconvert_exporter": "python",
   "pygments_lexer": "ipython3",
   "version": "3.9.13"
  }
 },
 "nbformat": 4,
 "nbformat_minor": 5
}
